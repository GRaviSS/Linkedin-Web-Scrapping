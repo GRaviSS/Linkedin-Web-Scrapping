{
 "cells": [
  {
   "cell_type": "markdown",
   "metadata": {},
   "source": [
    "#### Import Everything"
   ]
  },
  {
   "cell_type": "code",
   "execution_count": 1,
   "metadata": {},
   "outputs": [],
   "source": [
    "#import python libraries\n",
    "from bs4 import BeautifulSoup #to parse the page and search for specific elements\n",
    "import requests #to connect to the web\n",
    "import re #regular expression\n",
    "import urllib.request #download images from the urls\n",
    "import pandas as pd\n",
    "from pandas import DataFrame"
   ]
  },
  {
   "cell_type": "code",
   "execution_count": 2,
   "metadata": {},
   "outputs": [
    {
     "ename": "SyntaxError",
     "evalue": "unexpected EOF while parsing (<ipython-input-2-95dfe8f6009a>, line 7)",
     "output_type": "error",
     "traceback": [
      "\u001b[1;36m  File \u001b[1;32m\"<ipython-input-2-95dfe8f6009a>\"\u001b[1;36m, line \u001b[1;32m7\u001b[0m\n\u001b[1;33m    except:\u001b[0m\n\u001b[1;37m           ^\u001b[0m\n\u001b[1;31mSyntaxError\u001b[0m\u001b[1;31m:\u001b[0m unexpected EOF while parsing\n"
     ]
    }
   ],
   "source": [
    "#request with python beautifulsoup using URL,RESPONSE AND SOUPCONTENT\n",
    "url = \"https://www.yellowpages.com/search?search_terms=dentists&geo_location_terms=San+Francisco%2C+CA\"\n",
    "try:\n",
    "    response = requests.get(url)\n",
    "    soupcontent = BeautifulSoup(response.content, 'html.parser') #prints out the pagesource\n",
    "    print(soupcontent)\n",
    "except:"
   ]
  },
  {
   "cell_type": "markdown",
   "metadata": {},
   "source": [
    "#### STEP 2: SELECT THE BODY ELEMENT CONTAINING THE DATA"
   ]
  },
  {
   "cell_type": "code",
   "execution_count": null,
   "metadata": {},
   "outputs": [],
   "source": [
    "#select the container with all the 30 different dentist \n",
    "listingbody_dentist = soupcontent.find('div', {'class': 'search-results organic'})\n",
    "\n",
    "\n",
    "#select individual dentist listings\n",
    "each_dentist = body_dentist.find_all('div', {'class': 'result'})\n",
    "print(each_dentist) \n",
    "\n",
    "Name, occupation, reviews, address, and phone numbers)"
   ]
  },
  {
   "cell_type": "code",
   "execution_count": null,
   "metadata": {},
   "outputs": [],
   "source": []
  },
  {
   "cell_type": "code",
   "execution_count": null,
   "metadata": {},
   "outputs": [],
   "source": []
  },
  {
   "cell_type": "code",
   "execution_count": null,
   "metadata": {},
   "outputs": [],
   "source": []
  },
  {
   "cell_type": "code",
   "execution_count": null,
   "metadata": {},
   "outputs": [],
   "source": []
  },
  {
   "cell_type": "code",
   "execution_count": null,
   "metadata": {},
   "outputs": [],
   "source": []
  },
  {
   "cell_type": "code",
   "execution_count": null,
   "metadata": {},
   "outputs": [],
   "source": []
  }
 ],
 "metadata": {
  "kernelspec": {
   "display_name": "Python 3",
   "language": "python",
   "name": "python3"
  },
  "language_info": {
   "codemirror_mode": {
    "name": "ipython",
    "version": 3
   },
   "file_extension": ".py",
   "mimetype": "text/x-python",
   "name": "python",
   "nbconvert_exporter": "python",
   "pygments_lexer": "ipython3",
   "version": "3.8.5"
  }
 },
 "nbformat": 4,
 "nbformat_minor": 4
}
